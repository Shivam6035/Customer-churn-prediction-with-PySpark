{
  "nbformat": 4,
  "nbformat_minor": 0,
  "metadata": {
    "colab": {
      "private_outputs": true,
      "provenance": []
    },
    "kernelspec": {
      "name": "python3",
      "display_name": "Python 3"
    },
    "language_info": {
      "name": "python"
    }
  },
  "cells": [
    {
      "cell_type": "code",
      "execution_count": null,
      "metadata": {
        "id": "MaNO8QFP1gGL"
      },
      "outputs": [],
      "source": [
        "import tensorflow as tf\n",
        "from tensorflow.keras import layers, models\n",
        "from tensorflow.keras.datasets import mnist\n",
        "from tensorflow.keras.utils import to_categorical\n",
        "import matplotlib.pyplot as plt"
      ]
    },
    {
      "cell_type": "code",
      "source": [
        "image_size = 256\n",
        "batch_size = 32"
      ],
      "metadata": {
        "id": "0jQSaMPj2rTr"
      },
      "execution_count": null,
      "outputs": []
    },
    {
      "cell_type": "code",
      "source": [
        "!pip install pyspark"
      ],
      "metadata": {
        "id": "6EYi6J-i4hXe"
      },
      "execution_count": null,
      "outputs": []
    },
    {
      "cell_type": "code",
      "source": [
        "from pyspark.sql import SparkSession\n",
        "\n",
        "import matplotlib.pyplot as plt\n",
        "import plotly.express as px\n",
        "\n",
        "import pandas as pd\n",
        "\n",
        "# pyspark SQL functions\n",
        "from pyspark.sql.functions import col, when, count, udf\n",
        "\n",
        "# pyspark data preprocessing modules\n",
        "from pyspark.ml.feature import Imputer, StringIndexer, VectorAssembler, StandardScaler, OneHotEncoder\n",
        "\n",
        "# pyspark data modeling and model evaluation modules\n",
        "from pyspark.ml.classification import DecisionTreeClassifier\n",
        "from pyspark.ml.evaluation import BinaryClassificationEvaluator\n"
      ],
      "metadata": {
        "id": "CjCwZ1Q944NX"
      },
      "execution_count": null,
      "outputs": []
    },
    {
      "cell_type": "code",
      "source": [
        "spark = SparkSession.builder.appName(\"Customer_Churn_Prediction\").getOrCreate()\n",
        "spark # building spark session"
      ],
      "metadata": {
        "id": "4Hl_MlEE5bMp"
      },
      "execution_count": null,
      "outputs": []
    },
    {
      "cell_type": "code",
      "source": [
        "data = spark.read.format('csv').option (\"inferSchema\",True).option( \"header\",True).load(\"/content/drive/MyDrive/data for project /dataset_pyspark_churn.csv\")\n",
        "data.show()"
      ],
      "metadata": {
        "id": "wjx2z1Xv5ixR"
      },
      "execution_count": null,
      "outputs": []
    },
    {
      "cell_type": "code",
      "source": [
        "# print data schema\n",
        "data.printSchema()"
      ],
      "metadata": {
        "id": "uP7I288I7Kcw"
      },
      "execution_count": null,
      "outputs": []
    },
    {
      "cell_type": "code",
      "source": [
        "# data dimension\n",
        "data.count()\n",
        "len(data.columns)"
      ],
      "metadata": {
        "id": "2tj_9r_W7WXK"
      },
      "execution_count": null,
      "outputs": []
    },
    {
      "cell_type": "markdown",
      "source": [
        "**EDA**"
      ],
      "metadata": {
        "id": "bo3FOUuh_MY7"
      }
    },
    {
      "cell_type": "code",
      "source": [
        "numerical_columns = [name for name , type in data.dtypes if type == 'double' or type == \"int\"]\n",
        "categorical_columns = [name for name , type in data.dtypes if type == 'string']\n",
        "\n",
        "data.select(numerical_columns).show()"
      ],
      "metadata": {
        "id": "RZnK5Ugt_PDg"
      },
      "execution_count": null,
      "outputs": []
    },
    {
      "cell_type": "code",
      "source": [
        "#store numerical_columns in pandas DF\n",
        "df = data.select(numerical_columns).toPandas()\n",
        "df.head()"
      ],
      "metadata": {
        "id": "-QNQoQN5AsXl"
      },
      "execution_count": null,
      "outputs": []
    },
    {
      "cell_type": "code",
      "source": [
        "df.describe()"
      ],
      "metadata": {
        "id": "6qlqNKKoFCKa"
      },
      "execution_count": null,
      "outputs": []
    },
    {
      "cell_type": "code",
      "source": [
        "df.info()"
      ],
      "metadata": {
        "id": "TQ3Xa3QyFLko"
      },
      "execution_count": null,
      "outputs": []
    },
    {
      "cell_type": "code",
      "source": [
        "fig = plt.figure(figsize = (15,10))\n",
        "ax  = fig.gca()\n",
        "df.hist(ax = ax, bins = 20)\n"
      ],
      "metadata": {
        "id": "FF2v5HPRCAHu"
      },
      "execution_count": null,
      "outputs": []
    },
    {
      "cell_type": "code",
      "source": [
        "df.corr()"
      ],
      "metadata": {
        "id": "znrt_TA_E504"
      },
      "execution_count": null,
      "outputs": []
    },
    {
      "cell_type": "code",
      "source": [
        "#find unique value count per each categorical variavbles\n",
        "for column in categorical_columns:\n",
        "  data.groupby(column).count().show()# will give result for all column\n",
        "categorical_columns # show all columns\n"
      ],
      "metadata": {
        "id": "qwH44XP7Ffhy",
        "collapsed": true
      },
      "execution_count": null,
      "outputs": []
    },
    {
      "cell_type": "code",
      "source": [
        "# count null values in all column\n",
        "for column in data.columns:\n",
        "  data.select(count(when(col(column).isNull(),column)).alias(column)).show() # for all columns\n",
        "  #data.select(count(when(col(\"Churn\").isNull(),\"Churn\")).alias(\"Churn\")).show() # specific for  Churn"
      ],
      "metadata": {
        "collapsed": true,
        "id": "OWw8mqK2LDnb"
      },
      "execution_count": null,
      "outputs": []
    },
    {
      "cell_type": "markdown",
      "source": [
        "### preprocessing of data"
      ],
      "metadata": {
        "id": "xDcbbdd2ODzJ"
      }
    },
    {
      "cell_type": "code",
      "source": [
        "colums_with_missing_values = ['TotalCharges']"
      ],
      "metadata": {
        "id": "AmzKB_eJOWvX"
      },
      "execution_count": null,
      "outputs": []
    },
    {
      "cell_type": "code",
      "source": [
        "# imputer for pre processing\n",
        "imputer = Imputer(inputCols=colums_with_missing_values, outputCols=colums_with_missing_values).setStrategy(\"mean\")"
      ],
      "metadata": {
        "id": "XO1denpUOx3F"
      },
      "execution_count": null,
      "outputs": []
    },
    {
      "cell_type": "code",
      "source": [
        "# imputer to fill missing value\n",
        "imputer = imputer.fit(data)\n",
        "data = imputer.transform(data)"
      ],
      "metadata": {
        "id": "6vp5RXu4PVZ-"
      },
      "execution_count": null,
      "outputs": []
    },
    {
      "cell_type": "code",
      "source": [
        "for column in data.columns:\n",
        "  # check for missimg values\n",
        "  data.select(count(when(col(column).isNull(),column)).alias(column)).show()"
      ],
      "metadata": {
        "collapsed": true,
        "id": "230V4jakPyRb"
      },
      "execution_count": null,
      "outputs": []
    },
    {
      "cell_type": "markdown",
      "source": [
        "### removing the outliers\n",
        "lets find customers with the tenure higher than 100"
      ],
      "metadata": {
        "id": "DG9LMBkyQCN_"
      }
    },
    {
      "cell_type": "code",
      "source": [
        "data.select(\"*\").where(data.tenure > 100).show()"
      ],
      "metadata": {
        "id": "G9UV2W3QQNAC"
      },
      "execution_count": null,
      "outputs": []
    },
    {
      "cell_type": "code",
      "source": [
        "# drop outliers row\n",
        "print(\"Before removing the outliers\", data.count())\n",
        "data = data.filter(data.tenure < 100)\n",
        "print(\"After removing the outliers\", data.count())"
      ],
      "metadata": {
        "id": "1fRFVYvlQdXb"
      },
      "execution_count": null,
      "outputs": []
    },
    {
      "cell_type": "markdown",
      "source": [
        "**vector assembling**"
      ],
      "metadata": {
        "id": "HbVqRy75RU6c"
      }
    },
    {
      "cell_type": "code",
      "source": [
        "numerical_vector_assembler = VectorAssembler(inputCols=numerical_columns, outputCol=\"numerical_features_vector\")\n",
        "data = numerical_vector_assembler.transform(data)\n",
        "data.show()  # numerical feature scaling"
      ],
      "metadata": {
        "collapsed": true,
        "id": "q7zvpfhDRcMy"
      },
      "execution_count": null,
      "outputs": []
    },
    {
      "cell_type": "code",
      "source": [
        "# numrical scaling\n",
        "scaler = StandardScaler(inputCol=\"numerical_features_vector\",\n",
        "                        outputCol=\"scaled_numerical_features\" , withStd =True , withMean = True)\n",
        "data = scaler.fit(data).transform(data)\n",
        "data.show()"
      ],
      "metadata": {
        "id": "sn6dlGNNR7oo"
      },
      "execution_count": null,
      "outputs": []
    },
    {
      "cell_type": "markdown",
      "source": [
        "**fearure preperation**\n",
        "\n",
        "string indexing converting strig column to numerical"
      ],
      "metadata": {
        "id": "z0qASg8mU_2a"
      }
    },
    {
      "cell_type": "code",
      "source": [
        "categorical_columns"
      ],
      "metadata": {
        "id": "FdJWUYSuVMeI"
      },
      "execution_count": null,
      "outputs": []
    },
    {
      "cell_type": "code",
      "source": [
        "categorical_columns_indexed = [name+ \"_Indexed\" for name in categorical_columns if name != \"customerID\"]\n",
        "categorical_columns_indexed\n",
        "indexer = StringIndexer(inputCols=[name for name in categorical_columns if name != \"customerID\"], outputCols=categorical_columns_indexed)\n",
        "data = indexer.fit(data).transform(data)\n",
        "data.show()"
      ],
      "metadata": {
        "id": "o0y3RSvUVc7r"
      },
      "execution_count": null,
      "outputs": []
    },
    {
      "cell_type": "code",
      "source": [
        "# vector assembler to combine all in one // vectorisation\n",
        "#categorical_columns_indexed.remove(\"customerID_Indexed\")\n",
        "#categorical_columns_indexed.remove(\"Churn_Indexed\")\n",
        "categorical_vector_assembler = VectorAssembler(inputCols=[name for name in categorical_columns_indexed if name != \"Churn_Indexed\"], outputCol=\"categorical_features_vector\")\n",
        "data = categorical_vector_assembler.transform(data)\n",
        "data.show()"
      ],
      "metadata": {
        "id": "z3m0dvVGV7S-"
      },
      "execution_count": null,
      "outputs": []
    },
    {
      "cell_type": "code",
      "source": [
        "final_vector_assembler = VectorAssembler(inputCols=[\"scaled_numerical_features\",\"categorical_features_vector\"], outputCol=\"final_features_vector\")\n",
        "data = final_vector_assembler.transform(data)\n",
        "data.select([\"final_features_vector\", \"Churn_Indexed\"]).show(truncate=False)"
      ],
      "metadata": {
        "id": "RHTuM4hZYJ_n"
      },
      "execution_count": null,
      "outputs": []
    },
    {
      "cell_type": "code",
      "source": [
        "data.show()"
      ],
      "metadata": {
        "id": "Jyi_NaMjZQEl"
      },
      "execution_count": null,
      "outputs": []
    },
    {
      "cell_type": "code",
      "source": [
        "#data.select([\"final_features_vector\", \"Churn_Indexed\"]).show(truncate=False)"
      ],
      "metadata": {
        "id": "RW7ju_ebZYqj"
      },
      "execution_count": null,
      "outputs": []
    },
    {
      "cell_type": "code",
      "source": [
        "# decision tree for churn analysis\n",
        "train , test = data.randomSplit([0.7, 0.3], seed =100)\n",
        "print(train.count())\n",
        "print(test.count())"
      ],
      "metadata": {
        "id": "8zOeFUQScfEh"
      },
      "execution_count": null,
      "outputs": []
    },
    {
      "cell_type": "code",
      "source": [
        "train.show()"
      ],
      "metadata": {
        "id": "64sSFeOLdJic"
      },
      "execution_count": null,
      "outputs": []
    },
    {
      "cell_type": "code",
      "source": [
        "dt = DecisionTreeClassifier(featuresCol=\"final_features_vector\", labelCol=\"Churn_Indexed\", maxDepth =6)\n",
        "model = dt.fit(train) # maxdepth for hyperparameter tunig"
      ],
      "metadata": {
        "id": "i6iRQLvHdU79"
      },
      "execution_count": null,
      "outputs": []
    },
    {
      "cell_type": "code",
      "source": [
        "# make prediction for data\n",
        "predictions_test = model.transform(test)\n",
        "predictions_test.select([\"Churn\",\"prediction\"]).show()"
      ],
      "metadata": {
        "id": "_Ggwd_VajOu1"
      },
      "execution_count": null,
      "outputs": []
    },
    {
      "cell_type": "code",
      "source": [
        "# evaluate model AUC\n",
        "evaluator = BinaryClassificationEvaluator(labelCol=\"Churn_Indexed\")\n",
        "auc_test = evaluator.evaluate(predictions_test, {evaluator.metricName :\"areaUnderROC\"})\n",
        "print(\"AUC:\", auc_test)"
      ],
      "metadata": {
        "id": "VZqgLM-PkHBS"
      },
      "execution_count": null,
      "outputs": []
    },
    {
      "cell_type": "code",
      "source": [
        "predictions_train= model.transform(train)\n",
        "auc_train = evaluator.evaluate(predictions_train, {evaluator.metricName :\"areaUnderROC\"})\n",
        "print(\"AUC:\", auc_train)"
      ],
      "metadata": {
        "id": "6p2Y1_TfnJdH"
      },
      "execution_count": null,
      "outputs": []
    },
    {
      "cell_type": "markdown",
      "source": [
        "**hyperparameter tuning**\n"
      ],
      "metadata": {
        "id": "VyNQMlTbnhIJ"
      }
    },
    {
      "cell_type": "code",
      "source": [
        "def evaluate_dt(mode_params):\n",
        "      test_accuracies = []\n",
        "      train_accuracies = []\n",
        "\n",
        "      for maxD in mode_params:\n",
        "        # train the model based on the maxD\n",
        "        decision_tree = DecisionTreeClassifier(featuresCol = 'final_features_vector', labelCol = 'Churn_Indexed', maxDepth = maxD)\n",
        "        dtModel = decision_tree.fit(train)\n",
        "\n",
        "        # calculating test error\n",
        "        predictions_test = dtModel.transform(test)\n",
        "        evaluator = BinaryClassificationEvaluator(labelCol=\"Churn_Indexed\")\n",
        "        auc_test = evaluator.evaluate(predictions_test, {evaluator.metricName: \"areaUnderROC\"})\n",
        "        # recording the accuracy\n",
        "        test_accuracies.append(auc_test)\n",
        "\n",
        "        # calculating training error\n",
        "        predictions_training = dtModel.transform(train)\n",
        "        evaluator = BinaryClassificationEvaluator(labelCol=\"Churn_Indexed\")\n",
        "        auc_training = evaluator.evaluate(predictions_training, {evaluator.metricName: \"areaUnderROC\"})\n",
        "        train_accuracies.append(auc_training)\n",
        "\n",
        "      return(test_accuracies, train_accuracies)"
      ],
      "metadata": {
        "id": "ANa627TBnmI2"
      },
      "execution_count": null,
      "outputs": []
    },
    {
      "cell_type": "code",
      "source": [
        "maxDepths =[2,3,4,5,6,7,8,9,10,11,12,13,14,15,16,17,18,19,20]\n",
        "test_accs , train_accs = evaluate_dt(maxDepths)\n",
        "print(train_accs)\n",
        "print(test_accs)"
      ],
      "metadata": {
        "id": "ik8ETTfyq7V3"
      },
      "execution_count": null,
      "outputs": []
    },
    {
      "cell_type": "code",
      "source": [
        "df = pd.DataFrame()\n",
        "df['maxDepth'] = maxDepths\n",
        "df['test_AUC'] = test_accs\n",
        "df['train_AUC'] = train_accs\n",
        "\n",
        "df"
      ],
      "metadata": {
        "id": "SVLXtk3cuHRO"
      },
      "execution_count": null,
      "outputs": []
    },
    {
      "cell_type": "code",
      "source": [
        "px.line(df, x= \"maxDepth\", y =[\"train_AUC\",\"test_AUC\"]) # visual"
      ],
      "metadata": {
        "id": "jV0eAQDguP2s"
      },
      "execution_count": null,
      "outputs": []
    },
    {
      "cell_type": "markdown",
      "source": [
        "**Model Development**"
      ],
      "metadata": {
        "id": "xvK3jjc8b67x"
      }
    },
    {
      "cell_type": "code",
      "source": [
        "feature_importance = model.featureImportances\n",
        "print(feature_importance)"
      ],
      "metadata": {
        "id": "xV24Co76b-te"
      },
      "execution_count": null,
      "outputs": []
    },
    {
      "cell_type": "code",
      "source": [
        "# Get the list of feature importances from the DenseVector\n",
        "feature_importances_list = feature_importance.toArray().tolist()\n",
        "\n",
        "# Get the names of the features used in the final_features_vector\n",
        "feature_names = numerical_columns + [name for name in categorical_columns_indexed if name != \"Churn_Indexed\"]\n",
        "\n",
        "df = pd.DataFrame(feature_importances_list, columns = [\"score\"], index = feature_names)\n",
        "df"
      ],
      "metadata": {
        "id": "NC44xlz-cRaS"
      },
      "execution_count": null,
      "outputs": []
    },
    {
      "cell_type": "code",
      "source": [
        "#feature_importance =model.featuresImportances\n",
        "print(feature_importance)\n",
        "score = [score for i, score in enumerate(feature_importance) ]\n",
        "# Get the names of the features used in the final_features_vector\n",
        "feature_names = numerical_columns + [name for name in categorical_columns_indexed if name != \"Churn_Indexed\" and name != \"customerID_Indexed\"]\n",
        "df = pd.DataFrame(score, columns = [\"score\"], index = feature_names)\n",
        "df"
      ],
      "metadata": {
        "id": "HA4RXOOQdh-r"
      },
      "execution_count": null,
      "outputs": []
    },
    {
      "cell_type": "code",
      "source": [
        "px.bar(df, x= \"score\")"
      ],
      "metadata": {
        "id": "HcYS7zRYdUIl"
      },
      "execution_count": null,
      "outputs": []
    },
    {
      "cell_type": "code",
      "source": [
        "df = data.groupBy(\"Contract\", \"Churn\").count().toPandas()\n",
        "df\n",
        "px.bar(df ,x= \"Contract\", y =\"count\", color =\"Churn\" )"
      ],
      "metadata": {
        "id": "3pgFtfb-eseA"
      },
      "execution_count": null,
      "outputs": []
    }
  ]
}